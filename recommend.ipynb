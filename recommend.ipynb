{
 "cells": [
  {
   "cell_type": "code",
   "execution_count": 8,
   "metadata": {},
   "outputs": [],
   "source": [
    "import pandas as pd\n",
    "from sklearn.feature_extraction.text import TfidfVectorizer\n",
    "from sklearn.metrics.pairwise import cosine_similarity"
   ]
  },
  {
   "cell_type": "code",
   "execution_count": 9,
   "metadata": {},
   "outputs": [],
   "source": [
    "dataset_path = 'imdb-movies-dataset.csv'\n",
    "df = pd.read_csv(dataset_path)"
   ]
  },
  {
   "cell_type": "code",
   "execution_count": 10,
   "metadata": {},
   "outputs": [
    {
     "name": "stdout",
     "output_type": "stream",
     "text": [
      "Dataset columns:  ['Poster', 'Title', 'Year', 'Certificate', 'Duration (min)', 'Genre', 'Rating', 'Metascore', 'Director', 'Cast', 'Votes', 'Description', 'Review Count', 'Review Title', 'Review']\n"
     ]
    }
   ],
   "source": [
    "print(\"Dataset columns: \", df.columns.tolist())"
   ]
  },
  {
   "cell_type": "code",
   "execution_count": 11,
   "metadata": {},
   "outputs": [],
   "source": [
    "# Ensure no missing values in the columns\n",
    "for col in ['Title', 'Genre', 'Director', 'Cast', 'Description']:\n",
    "    df[col] = df[col].fillna(\"\")"
   ]
  },
  {
   "cell_type": "code",
   "execution_count": 12,
   "metadata": {},
   "outputs": [],
   "source": [
    "# Merge the relevant colums\n",
    "df['combined_features'] = df['Title'] + \" \" + df['Genre'] + \" \" + df['Director'] + \" \" + df['Cast'] + \" \" + df['Description']"
   ]
  },
  {
   "cell_type": "code",
   "execution_count": 13,
   "metadata": {},
   "outputs": [
    {
     "name": "stdout",
     "output_type": "stream",
     "text": [
      "TF-IDF matrix shape: <Compressed Sparse Row sparse matrix of dtype 'float64'\n",
      "\twith 285626 stored elements and shape (10000, 39319)>\n",
      "  Coords\tValues\n",
      "  (0, 16844)\t0.18607796928551193\n",
      "  (0, 7434)\t0.056039812073635155\n",
      "  (0, 10410)\t0.04321188469107035\n",
      "  (0, 30100)\t0.14905328337699258\n",
      "  (0, 23135)\t0.09197146169001279\n",
      "  (0, 32195)\t0.21868067007403053\n",
      "  (0, 1773)\t0.13776458915157996\n",
      "  (0, 15539)\t0.16886332778089597\n",
      "  (0, 24873)\t0.14967349123234813\n",
      "  (0, 13589)\t0.21203085379571776\n",
      "  (0, 11142)\t0.18107059848573379\n",
      "  (0, 30337)\t0.2151474100283804\n",
      "  (0, 1779)\t0.18199911990531434\n",
      "  (0, 24117)\t0.22758377433107352\n",
      "  (0, 32987)\t0.24110029453858625\n",
      "  (0, 300)\t0.18961122933116206\n",
      "  (0, 38745)\t0.2288451351845244\n",
      "  (0, 25606)\t0.2179855819528031\n",
      "  (0, 32476)\t0.15169875279123685\n",
      "  (0, 23671)\t0.16829427046675224\n",
      "  (0, 3642)\t0.13147234784542508\n",
      "  (0, 36626)\t0.14677445943885875\n",
      "  (0, 264)\t0.1909022241623573\n",
      "  (0, 15612)\t0.20230080269780346\n",
      "  (0, 5792)\t0.15700852854264344\n",
      "  :\t:\n",
      "  (9999, 36610)\t0.19616341094441517\n",
      "  (9999, 29250)\t0.11859241987550555\n",
      "  (9999, 27129)\t0.15275874724424388\n",
      "  (9999, 15387)\t0.14665794813567926\n",
      "  (9999, 6228)\t0.16926939741626323\n",
      "  (9999, 18053)\t0.12495796390116572\n",
      "  (9999, 36914)\t0.2230574244725671\n",
      "  (9999, 21150)\t0.1392581166015645\n",
      "  (9999, 38148)\t0.1596477203325537\n",
      "  (9999, 28096)\t0.1497219401322661\n",
      "  (9999, 7055)\t0.15676439325984287\n",
      "  (9999, 11725)\t0.18534735132125285\n",
      "  (9999, 9561)\t0.199046738017126\n",
      "  (9999, 35867)\t0.199046738017126\n",
      "  (9999, 12451)\t0.1836584067879948\n",
      "  (9999, 1808)\t0.20231558464911717\n",
      "  (9999, 27939)\t0.21055242031614674\n",
      "  (9999, 37011)\t0.20231558464911717\n",
      "  (9999, 1013)\t0.21601497134499037\n",
      "  (9999, 36098)\t0.20231558464911717\n",
      "  (9999, 9198)\t0.2230574244725671\n",
      "  (9999, 16321)\t0.23298320467285472\n",
      "  (9999, 20473)\t0.23298320467285472\n",
      "  (9999, 3310)\t0.23298320467285472\n",
      "  (9999, 20018)\t0.23298320467285472\n"
     ]
    }
   ],
   "source": [
    "# Convert text into numerical features using TF-IDF\n",
    "vectorizer = TfidfVectorizer(stop_words='english')\n",
    "tfidf_matrix = vectorizer.fit_transform(df['combined_features'])\n",
    "print(\"TF-IDF matrix shape:\", tfidf_matrix)"
   ]
  },
  {
   "cell_type": "code",
   "execution_count": 14,
   "metadata": {},
   "outputs": [],
   "source": [
    "def get_recommendations(query, df, tfidf_matrix, vectorizer, top_n=5):\n",
    "    # Convert the query into a vector\n",
    "    query_vec = vectorizer.transform([query])\n",
    "    # Compute cosine similarity between the query and all movies\n",
    "    similarity_scores = cosine_similarity(query_vec, tfidf_matrix).flatten()\n",
    "    # Get the indices of the top matching movies\n",
    "    top_indices = similarity_scores.argsort()[::-1][:top_n]\n",
    "    # Retrieve and return the recommended movies along with their similarity scores\n",
    "    recommendations = df.iloc[top_indices][['Title', 'Genre', 'Description']].copy()\n",
    "    recommendations['similarity'] = similarity_scores[top_indices]\n",
    "    return recommendations"
   ]
  },
  {
   "cell_type": "code",
   "execution_count": 17,
   "metadata": {},
   "outputs": [],
   "source": [
    "user_query = \"I love thrilling action movies set in space, with a comedic twist.\"\n",
    "results = get_recommendations(user_query, df, tfidf_matrix, vectorizer, top_n=5)"
   ]
  },
  {
   "cell_type": "code",
   "execution_count": 18,
   "metadata": {},
   "outputs": [
    {
     "name": "stdout",
     "output_type": "stream",
     "text": [
      "Top Recommendations:\n",
      "                             Title                      Genre  \\\n",
      "8255                      Amarcord              Comedy, Drama   \n",
      "1028                 Lost in Space  Action, Adventure, Family   \n",
      "9399           It's Pat: The Movie                     Comedy   \n",
      "6875  Space Babes from Outer Space             Comedy, Sci-Fi   \n",
      "5131                  Freaky Tales   Adventure, Comedy, Drama   \n",
      "\n",
      "                                            Description  similarity  \n",
      "8255  A series of comedic and nostalgic vignettes se...    0.140185  \n",
      "1028  The Robinson family was going into space to fi...    0.139578  \n",
      "9399  The comedic misadventures of a person of indet...    0.132818  \n",
      "6875  Three space women land on Earth in search of s...    0.131187  \n",
      "5131  Four interconnected stories set in 1987 Oaklan...    0.126427  \n"
     ]
    }
   ],
   "source": [
    "print(\"Top Recommendations:\")\n",
    "print(results)"
   ]
  }
 ],
 "metadata": {
  "kernelspec": {
   "display_name": "Python 3",
   "language": "python",
   "name": "python3"
  },
  "language_info": {
   "codemirror_mode": {
    "name": "ipython",
    "version": 3
   },
   "file_extension": ".py",
   "mimetype": "text/x-python",
   "name": "python",
   "nbconvert_exporter": "python",
   "pygments_lexer": "ipython3",
   "version": "3.12.1"
  }
 },
 "nbformat": 4,
 "nbformat_minor": 2
}
